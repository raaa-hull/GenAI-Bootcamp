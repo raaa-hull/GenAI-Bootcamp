{
  "nbformat": 4,
  "nbformat_minor": 0,
  "metadata": {
    "colab": {
      "provenance": []
    },
    "kernelspec": {
      "name": "python3",
      "display_name": "Python 3"
    },
    "language_info": {
      "name": "python"
    }
  },
  "cells": [
    {
      "cell_type": "markdown",
      "metadata": {
        "id": "c7a5be05"
      },
      "source": [
        "# CNN Demo\n",
        "This notebook demonstrates Convolutional Neural Networks (CNNs) for image classification."
      ]
    },
    {
      "cell_type": "markdown",
      "metadata": {
        "id": "66011476"
      },
      "source": [
        "## Load data\n",
        "\n",
        "### Subtask:\n",
        "Load the Fashion MNIST dataset and display its shape and sample images.\n"
      ]
    },
    {
      "cell_type": "code",
      "metadata": {
        "colab": {
          "base_uri": "https://localhost:8080/",
          "height": 658
        },
        "id": "f7d88792",
        "outputId": "89f40040-8c3b-4d3a-e1bd-285283b7364d"
      },
      "source": [
        "import tensorflow as tf\n",
        "import matplotlib.pyplot as plt\n",
        "\n",
        "# Load the Fashion MNIST dataset\n",
        "(x_train, y_train), (x_test, y_test) = tf.keras.datasets.fashion_mnist.load_data()\n",
        "\n",
        "# Display the shape of the loaded data\n",
        "print(\"Shape of training data (x_train):\", x_train.shape)\n",
        "print(\"Shape of training labels (y_train):\", y_train.shape)\n",
        "print(\"Shape of testing data (x_test):\", x_test.shape)\n",
        "print(\"Shape of testing labels (y_test):\", y_test.shape)\n",
        "\n",
        "# Display a few sample images\n",
        "print(\"\\nSample Images from the Fashion MNIST dataset:\")\n",
        "plt.figure(figsize=(10, 10))\n",
        "for i in range(10):\n",
        "    plt.subplot(5, 5, i + 1)\n",
        "    plt.imshow(x_train[i], cmap='gray')\n",
        "    plt.title(f\"Label: {y_train[i]}\")\n",
        "    plt.axis('off')\n",
        "plt.tight_layout()\n",
        "plt.show()"
      ],
      "execution_count": 3,
      "outputs": [
        {
          "output_type": "stream",
          "name": "stdout",
          "text": [
            "Downloading data from https://storage.googleapis.com/tensorflow/tf-keras-datasets/train-labels-idx1-ubyte.gz\n",
            "\u001b[1m29515/29515\u001b[0m \u001b[32m━━━━━━━━━━━━━━━━━━━━\u001b[0m\u001b[37m\u001b[0m \u001b[1m0s\u001b[0m 0us/step\n",
            "Downloading data from https://storage.googleapis.com/tensorflow/tf-keras-datasets/train-images-idx3-ubyte.gz\n",
            "\u001b[1m26421880/26421880\u001b[0m \u001b[32m━━━━━━━━━━━━━━━━━━━━\u001b[0m\u001b[37m\u001b[0m \u001b[1m0s\u001b[0m 0us/step\n",
            "Downloading data from https://storage.googleapis.com/tensorflow/tf-keras-datasets/t10k-labels-idx1-ubyte.gz\n",
            "\u001b[1m5148/5148\u001b[0m \u001b[32m━━━━━━━━━━━━━━━━━━━━\u001b[0m\u001b[37m\u001b[0m \u001b[1m0s\u001b[0m 0us/step\n",
            "Downloading data from https://storage.googleapis.com/tensorflow/tf-keras-datasets/t10k-images-idx3-ubyte.gz\n",
            "\u001b[1m4422102/4422102\u001b[0m \u001b[32m━━━━━━━━━━━━━━━━━━━━\u001b[0m\u001b[37m\u001b[0m \u001b[1m0s\u001b[0m 0us/step\n",
            "Shape of training data (x_train): (60000, 28, 28)\n",
            "Shape of training labels (y_train): (60000,)\n",
            "Shape of testing data (x_test): (10000, 28, 28)\n",
            "Shape of testing labels (y_test): (10000,)\n",
            "\n",
            "Sample Images from the Fashion MNIST dataset:\n"
          ]
        },
        {
          "output_type": "display_data",
          "data": {
            "text/plain": [
              "<Figure size 1000x1000 with 10 Axes>"
            ],
            "image/png": "[encoded data removed]"
          },
          "metadata": {}
        }
      ]
    },
    {
      "cell_type": "markdown",
      "metadata": {
        "id": "b33f82cf"
      },
      "source": [
        "The code in the cell above loads the Fashion MNIST dataset, which is a dataset of 70,000 grayscale images of 10 different fashion items. The dataset is split into two parts:\n",
        "\n",
        "*   **Training data (`x_train`, `y_train`)**: This part is used to train the CNN model. `x_train` contains 60,000 images, and `y_train` contains the corresponding labels for each image.\n",
        "*   **Testing data (`x_test`, `y_test`)**: This part is used to evaluate the performance of the trained model on unseen data. `x_test` contains 10,000 images, and `y_test` contains the corresponding labels.\n",
        "\n",
        "The **labels** in this dataset are integers representing the class of the fashion item in the image. The classes are:\n",
        "\n",
        "*   0: T-shirt/top\n",
        "*   1: Trouser\n",
        "*   2: Pullover\n",
        "*   3: Dress\n",
        "*   4: Coat\n",
        "*   5: Sandal\n",
        "*   6: Shirt\n",
        "*   7: Sneaker\n",
        "*   8: Bag\n",
        "*   9: Ankle boot\n",
        "\n",
        "The code also prints the shape of the loaded data, showing the number of images and the dimensions of each image (28x28 pixels). Finally, it displays a few sample images from the training set along with their corresponding labels to give a visual idea of the dataset."
      ]
    },
    {
      "cell_type": "markdown",
      "metadata": {
        "id": "980c1da8"
      },
      "source": [
        "## Data preprocessing\n",
        "\n",
        "### Subtask:\n",
        "Preprocess the image data by scaling pixel values and reshaping the images to include a channel dimension."
      ]
    },
    {
      "cell_type": "code",
      "metadata": {
        "colab": {
          "base_uri": "https://localhost:8080/"
        },
        "id": "fd38d94e",
        "outputId": "ab58f2d8-b65d-4580-afd8-6a209a48146b"
      },
      "source": [
        "# Scale the pixel values to the range [0, 1]\n",
        "x_train_scaled = x_train / 255.0\n",
        "x_test_scaled = x_test / 255.0\n",
        "\n",
        "# Reshape the images to add a channel dimension (for grayscale, the channel is 1)\n",
        "x_train_reshaped = x_train_scaled.reshape(x_train_scaled.shape[0], 28, 28, 1)\n",
        "x_test_reshaped = x_test_scaled.reshape(x_test_scaled.shape[0], 28, 28, 1)\n",
        "\n",
        "# Print the shapes to verify the preprocessing\n",
        "print(\"Shape of scaled and reshaped training data:\", x_train_reshaped.shape)\n",
        "print(\"Shape of scaled and reshaped testing data:\", x_test_reshaped.shape)"
      ],
      "execution_count": 4,
      "outputs": [
        {
          "output_type": "stream",
          "name": "stdout",
          "text": [
            "Shape of scaled and reshaped training data: (60000, 28, 28, 1)\n",
            "Shape of scaled and reshaped testing data: (10000, 28, 28, 1)\n"
          ]
        }
      ]
    },
    {
      "cell_type": "markdown",
      "metadata": {
        "id": "ae3ea4fe"
      },
      "source": [
        "The code in the cell above performs data preprocessing on the Fashion MNIST images. This is a crucial step before feeding the data into a CNN model. Here's a breakdown:\n",
        "\n",
        "*   **Scaling Pixel Values**: Image pixel values are typically in the range of 0 to 255. Scaling these values to a smaller range, like [0, 1], helps in faster and more stable training of neural networks. The code achieves this by dividing each pixel value in both the training (`x_train`) and testing (`x_test`) datasets by 255.0.\n",
        "*   **Reshaping Images**: CNN layers, specifically convolutional layers, expect input images to have a specific shape: (height, width, channels). For grayscale images like those in Fashion MNIST, there is only one channel. The original shape of the images is (number of images, height, width). The code reshapes the scaled images to include this channel dimension using the `.reshape()` method. The new shape becomes (number of images, 28, 28, 1).\n",
        "\n",
        "Finally, the code prints the shapes of the scaled and reshaped training and testing data to confirm that the preprocessing steps were applied correctly."
      ]
    },
    {
      "cell_type": "markdown",
      "metadata": {
        "id": "5bcdd99f"
      },
      "source": [
        "## Build CNN model\n",
        "\n",
        "### Subtask:\n",
        "Import necessary libraries and define the CNN model architecture"
      ]
    },
    {
      "cell_type": "code",
      "metadata": {
        "colab": {
          "base_uri": "https://localhost:8080/",
          "height": 408
        },
        "id": "7091025c",
        "outputId": "18b79d69-624e-48bd-9993-5eadefc2d705"
      },
      "source": [
        "from tensorflow.keras.models import Sequential\n",
        "from tensorflow.keras.layers import Conv2D, MaxPooling2D, Flatten, Dense\n",
        "\n",
        "# Define the CNN model architecture\n",
        "model = Sequential([\n",
        "    # Convolutional layer 1\n",
        "    Conv2D(filters=32, kernel_size=(3, 3), activation='relu', input_shape=(28, 28, 1)),\n",
        "    # Pooling layer 1\n",
        "    MaxPooling2D(pool_size=(2, 2)),\n",
        "\n",
        "    # Convolutional layer 2\n",
        "    Conv2D(filters=64, kernel_size=(3, 3), activation='relu'),\n",
        "    # Pooling layer 2\n",
        "    MaxPooling2D(pool_size=(2, 2)),\n",
        "\n",
        "    # Flatten layer to transition from convolutional to dense layers\n",
        "    Flatten(),\n",
        "\n",
        "    # Dense layer 1\n",
        "    Dense(units=128, activation='relu'),\n",
        "\n",
        "    # Output dense layer with softmax activation for 10 classes (Fashion MNIST)\n",
        "    Dense(units=10, activation='softmax')\n",
        "])\n",
        "\n",
        "# Print the model summary to visualize the architecture\n",
        "model.summary()"
      ],
      "execution_count": 5,
      "outputs": [
        {
          "output_type": "stream",
          "name": "stderr",
          "text": [
            "/usr/local/lib/python3.12/dist-packages/keras/src/layers/convolutional/base_conv.py:113: UserWarning: Do not pass an `input_shape`/`input_dim` argument to a layer. When using Sequential models, prefer using an `Input(shape)` object as the first layer in the model instead.\n",
            "  super().__init__(activity_regularizer=activity_regularizer, **kwargs)\n"
          ]
        },
        {
          "output_type": "display_data",
          "data": {
            "text/plain": [
              "\u001b[1mModel: \"sequential\"\u001b[0m\n"
            ],
            "text/html": [
              "<pre style=\"white-space:pre;overflow-x:auto;line-height:normal;font-family:Menlo,'DejaVu Sans Mono',consolas,'Courier New',monospace\"><span style=\"font-weight: bold\">Model: \"sequential\"</span>\n",
              "</pre>\n"
            ]
          },
          "metadata": {}
        },
        {
          "output_type": "display_data",
          "data": {
            "text/plain": [
              "┏━━━━━━━━━━━━━━━━━━━━━━━━━━━━━━━━━┳━━━━━━━━━━━━━━━━━━━━━━━━┳━━━━━━━━━━━━━━━┓\n",
              "┃\u001b[1m \u001b[0m\u001b[1mLayer (type)                   \u001b[0m\u001b[1m \u001b[0m┃\u001b[1m \u001b[0m\u001b[1mOutput Shape          \u001b[0m\u001b[1m \u001b[0m┃\u001b[1m \u001b[0m\u001b[1m      Param #\u001b[0m\u001b[1m \u001b[0m┃\n",
              "┡━━━━━━━━━━━━━━━━━━━━━━━━━━━━━━━━━╇━━━━━━━━━━━━━━━━━━━━━━━━╇━━━━━━━━━━━━━━━┩\n",
              "│ conv2d (\u001b[38;5;33mConv2D\u001b[0m)                 │ (\u001b[38;5;45mNone\u001b[0m, \u001b[38;5;34m26\u001b[0m, \u001b[38;5;34m26\u001b[0m, \u001b[38;5;34m32\u001b[0m)     │           \u001b[38;5;34m320\u001b[0m │\n",
              "├─────────────────────────────────┼────────────────────────┼───────────────┤\n",
              "│ max_pooling2d (\u001b[38;5;33mMaxPooling2D\u001b[0m)    │ (\u001b[38;5;45mNone\u001b[0m, \u001b[38;5;34m13\u001b[0m, \u001b[38;5;34m13\u001b[0m, \u001b[38;5;34m32\u001b[0m)     │             \u001b[38;5;34m0\u001b[0m │\n",
              "├─────────────────────────────────┼────────────────────────┼───────────────┤\n",
              "│ conv2d_1 (\u001b[38;5;33mConv2D\u001b[0m)               │ (\u001b[38;5;45mNone\u001b[0m, \u001b[38;5;34m11\u001b[0m, \u001b[38;5;34m11\u001b[0m, \u001b[38;5;34m64\u001b[0m)     │        \u001b[38;5;34m18,496\u001b[0m │\n",
              "├─────────────────────────────────┼────────────────────────┼───────────────┤\n",
              "│ max_pooling2d_1 (\u001b[38;5;33mMaxPooling2D\u001b[0m)  │ (\u001b[38;5;45mNone\u001b[0m, \u001b[38;5;34m5\u001b[0m, \u001b[38;5;34m5\u001b[0m, \u001b[38;5;34m64\u001b[0m)       │             \u001b[38;5;34m0\u001b[0m │\n",
              "├─────────────────────────────────┼────────────────────────┼───────────────┤\n",
              "│ flatten (\u001b[38;5;33mFlatten\u001b[0m)               │ (\u001b[38;5;45mNone\u001b[0m, \u001b[38;5;34m1600\u001b[0m)           │             \u001b[38;5;34m0\u001b[0m │\n",
              "├─────────────────────────────────┼────────────────────────┼───────────────┤\n",
              "│ dense (\u001b[38;5;33mDense\u001b[0m)                   │ (\u001b[38;5;45mNone\u001b[0m, \u001b[38;5;34m128\u001b[0m)            │       \u001b[38;5;34m204,928\u001b[0m │\n",
              "├─────────────────────────────────┼────────────────────────┼───────────────┤\n",
              "│ dense_1 (\u001b[38;5;33mDense\u001b[0m)                 │ (\u001b[38;5;45mNone\u001b[0m, \u001b[38;5;34m10\u001b[0m)             │         \u001b[38;5;34m1,290\u001b[0m │\n",
              "└─────────────────────────────────┴────────────────────────┴───────────────┘\n"
            ],
            "text/html": [
              "<pre style=\"white-space:pre;overflow-x:auto;line-height:normal;font-family:Menlo,'DejaVu Sans Mono',consolas,'Courier New',monospace\">┏━━━━━━━━━━━━━━━━━━━━━━━━━━━━━━━━━┳━━━━━━━━━━━━━━━━━━━━━━━━┳━━━━━━━━━━━━━━━┓\n",
              "┃<span style=\"font-weight: bold\"> Layer (type)                    </span>┃<span style=\"font-weight: bold\"> Output Shape           </span>┃<span style=\"font-weight: bold\">       Param # </span>┃\n",
              "┡━━━━━━━━━━━━━━━━━━━━━━━━━━━━━━━━━╇━━━━━━━━━━━━━━━━━━━━━━━━╇━━━━━━━━━━━━━━━┩\n",
              "│ conv2d (<span style=\"color: #0087ff; text-decoration-color: #0087ff\">Conv2D</span>)                 │ (<span style=\"color: #00d7ff; text-decoration-color: #00d7ff\">None</span>, <span style=\"color: #00af00; text-decoration-color: #00af00\">26</span>, <span style=\"color: #00af00; text-decoration-color: #00af00\">26</span>, <span style=\"color: #00af00; text-decoration-color: #00af00\">32</span>)     │           <span style=\"color: #00af00; text-decoration-color: #00af00\">320</span> │\n",
              "├─────────────────────────────────┼────────────────────────┼───────────────┤\n",
              "│ max_pooling2d (<span style=\"color: #0087ff; text-decoration-color: #0087ff\">MaxPooling2D</span>)    │ (<span style=\"color: #00d7ff; text-decoration-color: #00d7ff\">None</span>, <span style=\"color: #00af00; text-decoration-color: #00af00\">13</span>, <span style=\"color: #00af00; text-decoration-color: #00af00\">13</span>, <span style=\"color: #00af00; text-decoration-color: #00af00\">32</span>)     │             <span style=\"color: #00af00; text-decoration-color: #00af00\">0</span> │\n",
              "├─────────────────────────────────┼────────────────────────┼───────────────┤\n",
              "│ conv2d_1 (<span style=\"color: #0087ff; text-decoration-color: #0087ff\">Conv2D</span>)               │ (<span style=\"color: #00d7ff; text-decoration-color: #00d7ff\">None</span>, <span style=\"color: #00af00; text-decoration-color: #00af00\">11</span>, <span style=\"color: #00af00; text-decoration-color: #00af00\">11</span>, <span style=\"color: #00af00; text-decoration-color: #00af00\">64</span>)     │        <span style=\"color: #00af00; text-decoration-color: #00af00\">18,496</span> │\n",
              "├─────────────────────────────────┼────────────────────────┼───────────────┤\n",
              "│ max_pooling2d_1 (<span style=\"color: #0087ff; text-decoration-color: #0087ff\">MaxPooling2D</span>)  │ (<span style=\"color: #00d7ff; text-decoration-color: #00d7ff\">None</span>, <span style=\"color: #00af00; text-decoration-color: #00af00\">5</span>, <span style=\"color: #00af00; text-decoration-color: #00af00\">5</span>, <span style=\"color: #00af00; text-decoration-color: #00af00\">64</span>)       │             <span style=\"color: #00af00; text-decoration-color: #00af00\">0</span> │\n",
              "├─────────────────────────────────┼────────────────────────┼───────────────┤\n",
              "│ flatten (<span style=\"color: #0087ff; text-decoration-color: #0087ff\">Flatten</span>)               │ (<span style=\"color: #00d7ff; text-decoration-color: #00d7ff\">None</span>, <span style=\"color: #00af00; text-decoration-color: #00af00\">1600</span>)           │             <span style=\"color: #00af00; text-decoration-color: #00af00\">0</span> │\n",
              "├─────────────────────────────────┼────────────────────────┼───────────────┤\n",
              "│ dense (<span style=\"color: #0087ff; text-decoration-color: #0087ff\">Dense</span>)                   │ (<span style=\"color: #00d7ff; text-decoration-color: #00d7ff\">None</span>, <span style=\"color: #00af00; text-decoration-color: #00af00\">128</span>)            │       <span style=\"color: #00af00; text-decoration-color: #00af00\">204,928</span> │\n",
              "├─────────────────────────────────┼────────────────────────┼───────────────┤\n",
              "│ dense_1 (<span style=\"color: #0087ff; text-decoration-color: #0087ff\">Dense</span>)                 │ (<span style=\"color: #00d7ff; text-decoration-color: #00d7ff\">None</span>, <span style=\"color: #00af00; text-decoration-color: #00af00\">10</span>)             │         <span style=\"color: #00af00; text-decoration-color: #00af00\">1,290</span> │\n",
              "└─────────────────────────────────┴────────────────────────┴───────────────┘\n",
              "</pre>\n"
            ]
          },
          "metadata": {}
        },
        {
          "output_type": "display_data",
          "data": {
            "text/plain": [
              "\u001b[1m Total params: \u001b[0m\u001b[38;5;34m225,034\u001b[0m (879.04 KB)\n"
            ],
            "text/html": [
              "<pre style=\"white-space:pre;overflow-x:auto;line-height:normal;font-family:Menlo,'DejaVu Sans Mono',consolas,'Courier New',monospace\"><span style=\"font-weight: bold\"> Total params: </span><span style=\"color: #00af00; text-decoration-color: #00af00\">225,034</span> (879.04 KB)\n",
              "</pre>\n"
            ]
          },
          "metadata": {}
        },
        {
          "output_type": "display_data",
          "data": {
            "text/plain": [
              "\u001b[1m Trainable params: \u001b[0m\u001b[38;5;34m225,034\u001b[0m (879.04 KB)\n"
            ],
            "text/html": [
              "<pre style=\"white-space:pre;overflow-x:auto;line-height:normal;font-family:Menlo,'DejaVu Sans Mono',consolas,'Courier New',monospace\"><span style=\"font-weight: bold\"> Trainable params: </span><span style=\"color: #00af00; text-decoration-color: #00af00\">225,034</span> (879.04 KB)\n",
              "</pre>\n"
            ]
          },
          "metadata": {}
        },
        {
          "output_type": "display_data",
          "data": {
            "text/plain": [
              "\u001b[1m Non-trainable params: \u001b[0m\u001b[38;5;34m0\u001b[0m (0.00 B)\n"
            ],
            "text/html": [
              "<pre style=\"white-space:pre;overflow-x:auto;line-height:normal;font-family:Menlo,'DejaVu Sans Mono',consolas,'Courier New',monospace\"><span style=\"font-weight: bold\"> Non-trainable params: </span><span style=\"color: #00af00; text-decoration-color: #00af00\">0</span> (0.00 B)\n",
              "</pre>\n"
            ]
          },
          "metadata": {}
        }
      ]
    },
    {
      "cell_type": "markdown",
      "metadata": {
        "id": "b5e68ba9"
      },
      "source": [
        "The code in the cell above defines the architecture of the Convolutional Neural Network (CNN) using the Keras Sequential API. Here's a breakdown of the layers:\n",
        "\n",
        "*   **`Sequential([...])`**: This creates a linear stack of layers, which is a common way to build neural networks.\n",
        "*   **`Conv2D(filters=32, kernel_size=(3, 3), activation='relu', input_shape=(28, 28, 1))`**: This is the first convolutional layer.\n",
        "    *   `filters=32`: Specifies the number of output filters (feature maps) in the convolution.\n",
        "    *   `kernel_size=(3, 3)`: Defines the size of the convolutional kernel (filter).\n",
        "    *   `activation='relu'`: Uses the Rectified Linear Unit (ReLU) activation function, which introduces non-linearity.\n",
        "    *   `input_shape=(28, 28, 1)`: Specifies the shape of the input images (height, width, channels). This is only required for the first layer.\n",
        "*   **`MaxPooling2D(pool_size=(2, 2))`**: This is a max pooling layer.\n",
        "    *   `pool_size=(2, 2)`: Defines the size of the pooling window. It reduces the spatial dimensions (height and width) of the input by taking the maximum value within each window.\n",
        "*   **`Conv2D(filters=64, kernel_size=(3, 3), activation='relu')`**: This is the second convolutional layer, similar to the first but with 64 filters.\n",
        "*   **`MaxPooling2D(pool_size=(2, 2))`**: This is the second max pooling layer.\n",
        "*   **`Flatten()`**: This layer flattens the output of the convolutional and pooling layers into a one-dimensional array, which is required before feeding the data into dense layers.\n",
        "*   **`Dense(units=128, activation='relu')`**: This is the first dense (fully connected) layer.\n",
        "    *   `units=128`: Specifies the number of neurons in this layer.\n",
        "    *   `activation='relu'`: Uses the ReLU activation function.\n",
        "*   **`Dense(units=10, activation='softmax')`**: This is the output dense layer.\n",
        "    *   `units=10`: Specifies the number of neurons, which is equal to the number of classes in the Fashion MNIST dataset (10 classes).\n",
        "    *   `activation='softmax'`: Uses the softmax activation function, which outputs a probability distribution over the 10 classes. The class with the highest probability is the predicted class.\n",
        "\n",
        "The `model.summary()` line prints a summary of the model architecture, showing the layers, output shapes, and the number of parameters in each layer."
      ]
    },
    {
      "cell_type": "markdown",
      "metadata": {
        "id": "005e3ad5"
      },
      "source": [
        "## Compile CNN model\n",
        "\n",
        "### Subtask:\n",
        "Compile the defined CNN model with the specified optimizer, loss function, and metrics."
      ]
    },
    {
      "cell_type": "code",
      "metadata": {
        "colab": {
          "base_uri": "https://localhost:8080/"
        },
        "id": "bf7e38b4",
        "outputId": "3bb4820d-e5dd-42f2-ac81-1e592e89f32b"
      },
      "source": [
        "# Compile the CNN model\n",
        "model.compile(optimizer='adam',\n",
        "              loss='sparse_categorical_crossentropy',\n",
        "              metrics=['accuracy'])\n",
        "\n",
        "print(\"CNN model compiled successfully with Adam optimizer, sparse_categorical_crossentropy loss, and accuracy metric.\")"
      ],
      "execution_count": 6,
      "outputs": [
        {
          "output_type": "stream",
          "name": "stdout",
          "text": [
            "CNN model compiled successfully with Adam optimizer, sparse_categorical_crossentropy loss, and accuracy metric.\n"
          ]
        }
      ]
    },
    {
      "cell_type": "markdown",
      "metadata": {
        "id": "48879eb4"
      },
      "source": [
        "The code in the cell above compiles the defined CNN model. This is a necessary step before training the model. Here's what the compilation process involves:\n",
        "\n",
        "*   **`model.compile(...)`**: This method configures the model for training.\n",
        "*   **`optimizer='adam'`**: This specifies the optimizer to be used for training. The Adam optimizer is a popular choice that adapts the learning rate during training, often leading to faster convergence.\n",
        "*   **`loss='sparse_categorical_crossentropy'`**: This defines the loss function that the model will try to minimize during training. `sparse_categorical_crossentropy` is suitable for classification problems where the labels are integers (as in the Fashion MNIST dataset). It measures how well the model's predicted probability distribution matches the true label.\n",
        "*   **`metrics=['accuracy']`**: This specifies the metrics that will be used to evaluate the model's performance during training and testing. 'accuracy' measures the percentage of correctly classified examples.\n",
        "\n",
        "Compiling the model prepares it for the training process by setting up the optimization algorithm, loss function, and evaluation metrics."
      ]
    },
    {
      "cell_type": "markdown",
      "metadata": {
        "id": "4aa3d4f7"
      },
      "source": [
        "## Train the cnn model\n",
        "\n",
        "### Subtask:\n",
        "Train the compiled CNN model using the scaled and reshaped training data and the training labels. Use a validation split to monitor performance during training and store the training history."
      ]
    },
    {
      "cell_type": "code",
      "metadata": {
        "colab": {
          "base_uri": "https://localhost:8080/"
        },
        "id": "58b0f7d3",
        "outputId": "377b8cc2-2918-4266-f49a-d8e6e5e5b985"
      },
      "source": [
        "# Train the CNN model\n",
        "epochs = 10\n",
        "batch_size = 32\n",
        "\n",
        "history = model.fit(x_train_reshaped, y_train,\n",
        "                    epochs=epochs,\n",
        "                    batch_size=batch_size,\n",
        "                    validation_split=0.2)\n",
        "\n",
        "print(f\"CNN model trained successfully for {epochs} epochs with batch size {batch_size}.\")"
      ],
      "execution_count": 7,
      "outputs": [
        {
          "output_type": "stream",
          "name": "stdout",
          "text": [
            "Epoch 1/10\n",
            "\u001b[1m1500/1500\u001b[0m \u001b[32m━━━━━━━━━━━━━━━━━━━━\u001b[0m\u001b[37m\u001b[0m \u001b[1m48s\u001b[0m 31ms/step - accuracy: 0.7629 - loss: 0.6621 - val_accuracy: 0.8738 - val_loss: 0.3513\n",
            "Epoch 2/10\n",
            "\u001b[1m1500/1500\u001b[0m \u001b[32m━━━━━━━━━━━━━━━━━━━━\u001b[0m\u001b[37m\u001b[0m \u001b[1m45s\u001b[0m 30ms/step - accuracy: 0.8805 - loss: 0.3336 - val_accuracy: 0.8841 - val_loss: 0.3136\n",
            "Epoch 3/10\n",
            "\u001b[1m1500/1500\u001b[0m \u001b[32m━━━━━━━━━━━━━━━━━━━━\u001b[0m\u001b[37m\u001b[0m \u001b[1m80s\u001b[0m 29ms/step - accuracy: 0.8988 - loss: 0.2789 - val_accuracy: 0.8997 - val_loss: 0.2777\n",
            "Epoch 4/10\n",
            "\u001b[1m1500/1500\u001b[0m \u001b[32m━━━━━━━━━━━━━━━━━━━━\u001b[0m\u001b[37m\u001b[0m \u001b[1m84s\u001b[0m 30ms/step - accuracy: 0.9103 - loss: 0.2424 - val_accuracy: 0.9046 - val_loss: 0.2616\n",
            "Epoch 5/10\n",
            "\u001b[1m1500/1500\u001b[0m \u001b[32m━━━━━━━━━━━━━━━━━━━━\u001b[0m\u001b[37m\u001b[0m \u001b[1m79s\u001b[0m 29ms/step - accuracy: 0.9188 - loss: 0.2178 - val_accuracy: 0.9077 - val_loss: 0.2510\n",
            "Epoch 6/10\n",
            "\u001b[1m1500/1500\u001b[0m \u001b[32m━━━━━━━━━━━━━━━━━━━━\u001b[0m\u001b[37m\u001b[0m \u001b[1m84s\u001b[0m 30ms/step - accuracy: 0.9304 - loss: 0.1888 - val_accuracy: 0.9116 - val_loss: 0.2520\n",
            "Epoch 7/10\n",
            "\u001b[1m1500/1500\u001b[0m \u001b[32m━━━━━━━━━━━━━━━━━━━━\u001b[0m\u001b[37m\u001b[0m \u001b[1m43s\u001b[0m 29ms/step - accuracy: 0.9367 - loss: 0.1680 - val_accuracy: 0.9125 - val_loss: 0.2489\n",
            "Epoch 8/10\n",
            "\u001b[1m1500/1500\u001b[0m \u001b[32m━━━━━━━━━━━━━━━━━━━━\u001b[0m\u001b[37m\u001b[0m \u001b[1m46s\u001b[0m 30ms/step - accuracy: 0.9447 - loss: 0.1476 - val_accuracy: 0.9143 - val_loss: 0.2591\n",
            "Epoch 9/10\n",
            "\u001b[1m1500/1500\u001b[0m \u001b[32m━━━━━━━━━━━━━━━━━━━━\u001b[0m\u001b[37m\u001b[0m \u001b[1m45s\u001b[0m 30ms/step - accuracy: 0.9500 - loss: 0.1341 - val_accuracy: 0.9123 - val_loss: 0.2568\n",
            "Epoch 10/10\n",
            "\u001b[1m1500/1500\u001b[0m \u001b[32m━━━━━━━━━━━━━━━━━━━━\u001b[0m\u001b[37m\u001b[0m \u001b[1m82s\u001b[0m 30ms/step - accuracy: 0.9573 - loss: 0.1154 - val_accuracy: 0.9141 - val_loss: 0.2764\n",
            "CNN model trained successfully for 10 epochs with batch size 32.\n"
          ]
        }
      ]
    },
    {
      "cell_type": "markdown",
      "metadata": {
        "id": "f1d4d447"
      },
      "source": [
        "The code in the cell above trains the compiled CNN model on the preprocessed training data. Here's a breakdown of the training process:\n",
        "\n",
        "*   **`epochs = 10`**: This sets the number of epochs for training. An epoch is one complete pass through the entire training dataset.\n",
        "*   **`batch_size = 32`**: This sets the batch size. The training data is divided into smaller batches, and the model's weights are updated after processing each batch. Using batches helps in faster training and can improve convergence.\n",
        "*   **`history = model.fit(...)`**: This method trains the model.\n",
        "    *   `x_train_reshaped`: The preprocessed training images.\n",
        "    *   `y_train`: The corresponding training labels.\n",
        "    *   `epochs=epochs`: The number of epochs to train for.\n",
        "    *   `batch_size=batch_size`: The batch size to use.\n",
        "    *   `validation_split=0.2`: This reserves 20% of the training data as validation data. The model is evaluated on this validation data at the end of each epoch. This helps in monitoring the model's performance on unseen data during training and can help detect overfitting.\n",
        "*   **`history`**: This variable stores the training history, including the loss and metrics (like accuracy) for both the training and validation sets at each epoch.\n",
        "\n",
        "The output during training shows the loss and accuracy for both the training and validation sets for each epoch."
      ]
    },
    {
      "cell_type": "markdown",
      "metadata": {
        "id": "3747527b"
      },
      "source": [
        "## Evaluate CNN model\n",
        "\n",
        "### Subtask:\n",
        "Evaluate the trained CNN model on the test data to assess its performance on unseen examples."
      ]
    },
    {
      "cell_type": "code",
      "metadata": {
        "colab": {
          "base_uri": "https://localhost:8080/"
        },
        "id": "11022cda",
        "outputId": "62d17a1e-eea6-4c73-96c4-2fef0025ba2c"
      },
      "source": [
        "# Evaluate the model on the test data\n",
        "test_loss, test_accuracy = model.evaluate(x_test_reshaped, y_test)\n",
        "\n",
        "print(f\"\\nTest Loss: {test_loss:.4f}\")\n",
        "print(f\"Test Accuracy: {test_accuracy:.4f}\")"
      ],
      "execution_count": 8,
      "outputs": [
        {
          "output_type": "stream",
          "name": "stdout",
          "text": [
            "\u001b[1m313/313\u001b[0m \u001b[32m━━━━━━━━━━━━━━━━━━━━\u001b[0m\u001b[37m\u001b[0m \u001b[1m3s\u001b[0m 10ms/step - accuracy: 0.9071 - loss: 0.3123\n",
            "\n",
            "Test Loss: 0.3057\n",
            "Test Accuracy: 0.9097\n"
          ]
        }
      ]
    },
    {
      "cell_type": "markdown",
      "metadata": {
        "id": "6333f863"
      },
      "source": [
        "The code in the cell above evaluates the trained CNN model on the test dataset to assess its performance on unseen data.\n",
        "\n",
        "*   **`model.evaluate(x_test_reshaped, y_test)`**: This method evaluates the model.\n",
        "    *   `x_test_reshaped`: The preprocessed testing images.\n",
        "    *   `y_test`: The corresponding testing labels.\n",
        "*   **`test_loss, test_accuracy = ...`**: This unpacks the results of the evaluation. `test_loss` is the value of the loss function on the test set, and `test_accuracy` is the accuracy of the model on the test set.\n",
        "\n",
        "The printed output shows the `Test Loss` and `Test Accuracy`.\n",
        "\n",
        "*   **Test Loss**: A lower test loss indicates that the model's predictions are closer to the actual labels on the test set.\n",
        "*   **Test Accuracy**: Test accuracy represents the proportion of correctly classified images in the test set. A higher test accuracy indicates better performance of the model on unseen data."
      ]
    },
    {
      "cell_type": "markdown",
      "metadata": {
        "id": "0e5f608b"
      },
      "source": [
        "## Make predictions\n",
        "\n",
        "### Subtask:\n",
        "Use the trained model to predict the class of a few sample images from the test set and display the predicted labels along with the actual labels."
      ]
    },
    {
      "cell_type": "code",
      "metadata": {
        "colab": {
          "base_uri": "https://localhost:8080/",
          "height": 450
        },
        "id": "25f7c3d8",
        "outputId": "3545a5bc-aa04-4f3c-da68-4baec2b713dd"
      },
      "source": [
        "import numpy as np\n",
        "\n",
        "# Make predictions on the test data\n",
        "predictions = model.predict(x_test_reshaped)\n",
        "\n",
        "# Get the predicted class labels\n",
        "predicted_labels = np.argmax(predictions, axis=1)\n",
        "\n",
        "# Display a few sample images with their predicted and actual labels\n",
        "print(\"Sample Predictions:\")\n",
        "plt.figure(figsize=(10, 10))\n",
        "for i in range(10):\n",
        "    plt.subplot(5, 5, i + 1)\n",
        "    plt.imshow(x_test[i], cmap='gray')\n",
        "    plt.title(f\"Actual: {y_test[i]}\\nPredicted: {predicted_labels[i]}\")\n",
        "    plt.axis('off')\n",
        "plt.tight_layout()\n",
        "plt.show()"
      ],
      "execution_count": 9,
      "outputs": [
        {
          "output_type": "stream",
          "name": "stdout",
          "text": [
            "\u001b[1m313/313\u001b[0m \u001b[32m━━━━━━━━━━━━━━━━━━━━\u001b[0m\u001b[37m\u001b[0m \u001b[1m2s\u001b[0m 7ms/step\n",
            "Sample Predictions:\n"
          ]
        },
        {
          "output_type": "display_data",
          "data": {
            "text/plain": [
              "<Figure size 1000x1000 with 10 Axes>"
            ],
            "image/png": "[encoded data removed]"
          },
          "metadata": {}
        }
      ]
    },
    {
      "cell_type": "markdown",
      "metadata": {
        "id": "143b2e10"
      },
      "source": [
        "This section demonstrates how to use the trained CNN model to make predictions on new, unseen images. By comparing the predicted labels with the actual labels, we can visually assess the model's performance on individual examples."
      ]
    },
    {
      "cell_type": "markdown",
      "metadata": {
        "id": "1d21ea15"
      },
      "source": [
        "## Summary\n",
        "\n",
        "The CNN model was successfully built and trained on the Fashion MNIST dataset for image classification.\n",
        "\n",
        "**Workflow**:\n",
        "\n",
        "1.  **Data Loading**: The Fashion MNIST dataset was loaded, providing training and testing sets of images and their corresponding labels.\n",
        "2.  **Data Preprocessing**: The image data was preprocessed by scaling pixel values to the range [0, 1] and reshaping the images to include a channel dimension, which is required for CNN input.\n",
        "3.  **Model Building**: A Sequential CNN model was defined with convolutional layers, pooling layers, a flatten layer, and dense layers.\n",
        "4.  **Model Compilation**: The model was compiled using the Adam optimizer, sparse categorical crossentropy loss function, and accuracy metric.\n",
        "5.  **Model Training**: The compiled model was trained on the preprocessed training data for a specified number of epochs and batch size, with a validation split to monitor performance.\n",
        "6.  **Model Evaluation**: The trained model was evaluated on the test dataset to assess its performance on unseen data.\n",
        "7.  **Prediction**: The trained model was used to make predictions on sample images from the test set.\n",
        "\n",
        "**Key Findings**:\n",
        "\n",
        "*   The CNN model achieved a test accuracy of approximately [Insert Test Accuracy Here after execution] on the Fashion MNIST dataset, indicating its ability to classify fashion items with reasonable accuracy.\n",
        "*   The training process showed that the model learned to extract relevant features from the images through the convolutional and pooling layers, leading to improved classification performance.\n",
        "*   Visual inspection of sample predictions reveals that the model generally predicts the correct class for the images, although there might be some cases where the predictions are incorrect, especially for visually similar items.\n",
        "\n",
        "This notebook demonstrates a basic CNN workflow for image classification using the Fashion MNIST dataset. The model can be further improved by experimenting with different architectures, hyperparameters, and data augmentation techniques."
      ]
    }
  ]
}