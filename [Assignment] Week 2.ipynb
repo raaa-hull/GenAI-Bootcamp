{
  "cells": [
    {
      "cell_type": "markdown",
      "metadata": {
        "id": "OHlH0-bWppon"
      },
      "source": [
        "# **Week 2 Assignment: Automating Customer Feedback Analysis**\n",
        "\n",
        "---\n",
        "\n",
        "### **Objective**\n",
        "\n",
        "The goal of this assignment is to use advanced prompting techniques and your understanding of LLM fundamentals to analyze and extract structured information from raw customer feedback. This project will test your skills in tokenization and prompt engineering (few-shot, structured output, and chain-of-thought).\n",
        "\n",
        "### **Background & Problem Statement**\n",
        "\n",
        "You are an AI Engineer at a growing e-commerce company. The customer support team is manually reading through hundreds of product reviews every day to identify key issues and sentiment. This process is slow and inconsistent.\n",
        "\n",
        "Your manager has asked you to build a prototype that uses a Large Language Model to automate this analysis. Specifically, you need to prove that you can:\n",
        "1.  Classify the sentiment of a review.\n",
        "2.  Extract specific, structured information (like product names and issues).\n",
        "\n",
        "### **Dataset**\n",
        "\n",
        "For this assignment, you will work with a small, curated list of customer reviews. This allows you to focus on the quality of your prompts rather than on data cleaning. Use the following Python list as your dataset:\n",
        "\n",
        "```python\n",
        "reviews = [\n",
        "    # Review 1: Positive\n",
        "    \"I absolutely love the new QuantumX Pro camera! The picture quality is stellar and the battery life is amazing. Shipped super fast too. A++!\",\n",
        "\n",
        "    # Review 2: Negative with specific issue\n",
        "    \"The SonicWave earbuds have a serious design flaw. The left earbud stopped charging after just one week. I expected better for the price. Very disappointed.\",\n",
        "\n",
        "    # Review 3: Mixed with a question\n",
        "    \"The Titan smartwatch is decent. The screen is bright and the features are good, but the step counter seems inaccurate. It's off by at least 20%. Is there a way to calibrate it?\",\n",
        "\n",
        "    # Review 4: Negative with multiple issues\n",
        "    \"My order for the AeroDrone was a disaster. It arrived with a broken propeller and the battery was completely dead on arrival. Customer service has been unresponsive for 3 days.\",\n",
        "\n",
        "    # Review 5: Positive but mentions a minor issue\n",
        "    \"Overall, I'm happy with the PureGlow Air Purifier. It's quiet and effective. My only complaint is that the replacement filters are a bit expensive.\"\n",
        "]\n",
        "```\n",
        "\n",
        "---\n",
        "\n",
        "### **Tasks & Instructions**\n",
        "\n",
        "Structure your code in a Jupyter Notebook or Python script. Use markdown cells or comments to explain your process and show the outputs for each task.\n",
        "\n",
        "**Part 1: Understanding Tokenization**\n",
        "*   **Objective:** To see firsthand how different models \"read\" the same text.\n",
        "*   **Tasks:**\n",
        "    1.  Import `AutoTokenizer` from the `transformers` library.\n",
        "    2.  Load the tokenizer for `\"gpt2\"` and the tokenizer for `\"bert-base-uncased\"`.\n",
        "    3.  Take the third review (`reviews[2]`) about the Titan smartwatch.\n",
        "    4.  Tokenize this review using **both** tokenizers and print the resulting list of tokens for each.\n",
        "    5.  In a markdown cell, answer the following:\n",
        "        *   Are the token lists identical?\n",
        "        *   Point out one or two specific differences you notice.\n",
        "        *   In one sentence, explain *why* different models might have different tokenizers.\n",
        "\n",
        "**Part 2: Advanced Prompt Engineering**\n",
        "*   **Objective:** To use different prompting techniques to perform three distinct analysis tasks.\n",
        "*   **Setup:** Load a basic instruction-following or text-generation LLM (e.g., `google/flan-t5-large` or `gpt2-large`) using the Hugging Face `pipeline`.\n",
        "*   **Tasks (perform for each review in the `reviews` list):**\n",
        "    1.  **Task A: Sentiment Classification (Few-Shot Prompting)**\n",
        "        *   Design a **few-shot prompt** that provides two examples of reviews classified as \"Positive\", \"Negative\", or \"Mixed\".\n",
        "        *   Use this prompt to classify each of the five reviews in the dataset. Print the classification for each review.\n",
        "    2.  **Task B: Structured Data Extraction (Instruction & Format Prompting)**\n",
        "        *   Design a prompt that instructs the model to extract the following information from each review and format the output as a JSON object: `{\"product_name\": \"...\", \"issue_summary\": \"...\", \"sentiment\": \"...\"}`.\n",
        "        *   If a piece of information isn't present, the model should output \"N/A\".\n",
        "        *   Run this prompt on all five reviews and print the resulting JSON for each.\n",
        "    3.  **Task C: Root Cause Analysis (Chain-of-Thought Prompting)**\n",
        "        *   For the **negative and mixed reviews only** (reviews 2, 3, 4, 5), design a **Chain-of-Thought prompt**.\n",
        "        *   The prompt should ask the model to first identify the customer's core problem and then explain its reasoning step-by-step.\n",
        "        *   Example Prompt Structure: `Analyze the following customer review to identify the root cause of their issue. First, state the main problem. Second, explain your reasoning in a single sentence. Let's think step by step.`\n",
        "        *   Print the model's full step-by-step analysis for these reviews.\n",
        "\n",
        "---\n",
        "\n",
        "### **Submission Instructions**\n",
        "\n",
        "1.  **Deadline:** You have **one week** from the assignment release date to submit your work.\n",
        "2.  **Platform:** All submissions must be made to your allocated private GitLab repository. You **must** submit your work in a branch named `week_2`.\n",
        "3.  **Format:** You can submit your work as either a Jupyter Notebook (`.ipynb`) or a Python script (`.py`).\n",
        "4.  After pushing, you should verify that your branch and files are visible on the GitLab web interface. No further action is needed. The trainers will review all submissions on the `week_2` branch after the deadline. Any assignments submitted after the deadline won't be reviewed and will reflect in your course score.\n",
        "5. The use of LLMs is encouraged, but ensure that you’re not copying solutions blindly. Always review, test, and understand any code generated, adapting it to the specific requirements of your assignment. Your submission should demonstrate your own comprehension, problem-solving process, and coding style, not just an unedited output from an AI tool."
      ]
    },
    {
      "cell_type": "code",
      "execution_count": 16,
      "metadata": {
        "colab": {
          "base_uri": "https://localhost:8080/"
        },
        "id": "WBV47PmdkCYB",
        "outputId": "5b9feaca-d794-4376-9612-1eaa7dcceebf"
      },
      "outputs": [
        {
          "output_type": "stream",
          "name": "stdout",
          "text": [
            "Dataset loaded with 5 reviews\n"
          ]
        }
      ],
      "source": [
        "# Dataset for the assignment\n",
        "reviews = [\n",
        "    # Review 1: Positive\n",
        "    \"I absolutely love the new QuantumX Pro camera! The picture quality is stellar and the battery life is amazing. Shipped super fast too. A++!\",\n",
        "\n",
        "    # Review 2: Negative with specific issue\n",
        "    \"The SonicWave earbuds have a serious design flaw. The left earbud stopped charging after just one week. I expected better for the price. Very disappointed.\",\n",
        "\n",
        "    # Review 3: Mixed with a question\n",
        "    \"The Titan smartwatch is decent. The screen is bright and the features are good, but the step counter seems inaccurate. It's off by at least 20%. Is there a way to calibrate it?\",\n",
        "\n",
        "    # Review 4: Negative with multiple issues\n",
        "    \"My order for the AeroDrone was a disaster. It arrived with a broken propeller and the battery was completely dead on arrival. Customer service has been unresponsive for 3 days.\",\n",
        "\n",
        "    # Review 5: Positive but mentions a minor issue\n",
        "    \"Overall, I'm happy with the PureGlow Air Purifier. It's quiet and effective. My only complaint is that the replacement filters are a bit expensive.\"\n",
        "]\n",
        "\n",
        "print(f\"Dataset loaded with {len(reviews)} reviews\")"
      ]
    },
    {
      "cell_type": "markdown",
      "metadata": {
        "id": "YILEdQo9kCYC"
      },
      "source": [
        "## **Part 1: Understanding Tokenization**\n",
        "\n",
        "In this section, we'll explore how different models tokenize text differently using GPT-2 and BERT tokenizers."
      ]
    },
    {
      "cell_type": "code",
      "execution_count": 17,
      "metadata": {
        "colab": {
          "base_uri": "https://localhost:8080/"
        },
        "id": "BBeXq3yTkCYD",
        "outputId": "4c239d40-a757-4777-8d83-76c4130dd194"
      },
      "outputs": [
        {
          "output_type": "stream",
          "name": "stdout",
          "text": [
            "Review: \"The Titan smartwatch is decent. The screen is bright and the features are good, but the step counter seems inaccurate. It's off by at least 20%. Is there a way to calibrate it?\"\n",
            "\n",
            "GPT-2 Tokenization:\n",
            "Number of tokens: 41\n",
            "Tokens: ['The', 'ĠTitan', 'Ġsmart', 'watch', 'Ġis', 'Ġdecent', '.', 'ĠThe', 'Ġscreen', 'Ġis', 'Ġbright', 'Ġand', 'Ġthe', 'Ġfeatures', 'Ġare', 'Ġgood', ',', 'Ġbut', 'Ġthe', 'Ġstep', 'Ġcounter', 'Ġseems', 'Ġinaccurate', '.', 'ĠIt', \"'s\", 'Ġoff', 'Ġby', 'Ġat', 'Ġleast', 'Ġ20', '%.', 'ĠIs', 'Ġthere', 'Ġa', 'Ġway', 'Ġto', 'Ġcalibr', 'ate', 'Ġit', '?']\n",
            "\n",
            "BERT Tokenization:\n",
            "Number of tokens: 44\n",
            "Tokens: ['the', 'titan', 'smart', '##watch', 'is', 'decent', '.', 'the', 'screen', 'is', 'bright', 'and', 'the', 'features', 'are', 'good', ',', 'but', 'the', 'step', 'counter', 'seems', 'inaccurate', '.', 'it', \"'\", 's', 'off', 'by', 'at', 'least', '20', '%', '.', 'is', 'there', 'a', 'way', 'to', 'cal', '##ib', '##rate', 'it', '?']\n"
          ]
        }
      ],
      "source": [
        "# Import AutoTokenizer from transformers library\n",
        "from transformers import AutoTokenizer\n",
        "\n",
        "# Load tokenizers for GPT-2 and BERT\n",
        "gpt2_tokenizer = AutoTokenizer.from_pretrained(\"gpt2\")\n",
        "bert_tokenizer = AutoTokenizer.from_pretrained(\"bert-base-uncased\")\n",
        "\n",
        "# Get the third review (index 2) about the Titan smartwatch\n",
        "titan_review = reviews[2]\n",
        "print(f\"Review: \\\"{titan_review}\\\"\\n\")\n",
        "\n",
        "# Tokenize using GPT-2 tokenizer\n",
        "gpt2_tokens = gpt2_tokenizer.tokenize(titan_review)\n",
        "print(\"GPT-2 Tokenization:\")\n",
        "print(f\"Number of tokens: {len(gpt2_tokens)}\")\n",
        "print(f\"Tokens: {gpt2_tokens}\\n\")\n",
        "\n",
        "# Tokenize using BERT tokenizer\n",
        "bert_tokens = bert_tokenizer.tokenize(titan_review)\n",
        "print(\"BERT Tokenization:\")\n",
        "print(f\"Number of tokens: {len(bert_tokens)}\")\n",
        "print(f\"Tokens: {bert_tokens}\")"
      ]
    },
    {
      "cell_type": "markdown",
      "metadata": {
        "id": "09p3AwZrkCYE"
      },
      "source": [
        "### **Analysis of Tokenization Differences**\n",
        "\n",
        "**Are the token lists identical?**  \n",
        "No, the token lists are not identical.\n",
        "\n",
        "**Differences observed:**\n",
        "- GPT-2 uses the special character `Ġ` to mark spaces before words (e.g., `ĠTitan`, `Ġsmart`), while BERT does not.\n",
        "- BERT splits words into subword pieces using `##` (e.g., `smart`, `##watch`, `cal`, `##ib`, `##rate`), whereas GPT-2 keeps most words whole or merges them differently.\n",
        "\n",
        "**Why different models have different tokenizers:**  \n",
        "Different models use different tokenizers because each is designed with a specific subword segmentation method optimized for its architecture and training data."
      ]
    },
    {
      "cell_type": "markdown",
      "metadata": {
        "id": "RIglwBnzkCYE"
      },
      "source": [
        "## **Part 2: Advanced Prompt Engineering**\n",
        "\n",
        "In this section, we'll use different prompting techniques to analyze customer reviews using a language model."
      ]
    },
    {
      "cell_type": "code",
      "execution_count": 18,
      "metadata": {
        "colab": {
          "base_uri": "https://localhost:8080/"
        },
        "id": "D7KshM5SkCYE",
        "outputId": "b215d4df-1ef3-400d-8bc7-8d45228115fd"
      },
      "outputs": [
        {
          "output_type": "stream",
          "name": "stderr",
          "text": [
            "Device set to use cpu\n"
          ]
        },
        {
          "output_type": "stream",
          "name": "stdout",
          "text": [
            "Language model pipeline loaded successfully!\n"
          ]
        }
      ],
      "source": [
        "from transformers import pipeline\n",
        "import json\n",
        "\n",
        "# generator = pipeline(\"text-generation\", model=\"gpt2\",\n",
        "#                     pad_token_id=50256,\n",
        "#                     return_full_text=True)\n",
        "\n",
        "generator = pipeline(\"text2text-generation\", model=\"google/flan-t5-large\")\n",
        "print(\"Language model pipeline loaded successfully!\")"
      ]
    },
    {
      "cell_type": "markdown",
      "metadata": {
        "id": "RDbUp8bmkCYE"
      },
      "source": [
        "### **Task A: Sentiment Classification (Few-Shot Prompting)**\n",
        "\n",
        "Using few-shot prompting to classify review sentiment with examples."
      ]
    },
    {
      "cell_type": "code",
      "execution_count": 19,
      "metadata": {
        "colab": {
          "base_uri": "https://localhost:8080/"
        },
        "id": "-HP_QBeUkCYF",
        "outputId": "b7668db2-3cc1-46cd-b2c2-5919f3cecdc6"
      },
      "outputs": [
        {
          "output_type": "stream",
          "name": "stdout",
          "text": [
            "=== TASK A: SENTIMENT CLASSIFICATION (FEW-SHOT) ===\n",
            "\n",
            "Review 1: Positive\n",
            "Text: \"I absolutely love the new QuantumX Pro camera! The picture quality is stellar and the battery life is amazing. Shipped super fast too. A++!\"\n",
            "\n",
            "--------------------------------------------------------------------------------\n",
            "Review 2: Negative\n",
            "Text: \"The SonicWave earbuds have a serious design flaw. The left earbud stopped charging after just one week. I expected better for the price. Very disappointed.\"\n",
            "\n",
            "--------------------------------------------------------------------------------\n",
            "Review 3: Mixed\n",
            "Text: \"The Titan smartwatch is decent. The screen is bright and the features are good, but the step counter seems inaccurate. It's off by at least 20%. Is there a way to calibrate it?\"\n",
            "\n",
            "--------------------------------------------------------------------------------\n",
            "Review 4: Negative\n",
            "Text: \"My order for the AeroDrone was a disaster. It arrived with a broken propeller and the battery was completely dead on arrival. Customer service has been unresponsive for 3 days.\"\n",
            "\n",
            "--------------------------------------------------------------------------------\n",
            "Review 5: Positive\n",
            "Text: \"Overall, I'm happy with the PureGlow Air Purifier. It's quiet and effective. My only complaint is that the replacement filters are a bit expensive.\"\n",
            "\n",
            "--------------------------------------------------------------------------------\n"
          ]
        }
      ],
      "source": [
        "# Task A: Few-Shot Sentiment Classification\n",
        "def classify_sentiment(review):\n",
        "    prompt = f\"\"\"Classify the sentiment of customer reviews as \"Positive\", \"Negative\", or \"Mixed\".\n",
        "\n",
        "Examples:\n",
        "Review: \"This product is amazing! Great quality and fast shipping.\"\n",
        "Sentiment: Positive\n",
        "\n",
        "Review: \"Terrible product. Broke after one use and customer service was unhelpful.\"\n",
        "Sentiment: Negative\n",
        "\n",
        "Review: \"The product works okay but the price is too high. Mixed feelings about this purchase.\"\n",
        "Sentiment: Mixed\n",
        "\n",
        "Review: \"{review}\"\n",
        "Sentiment:\"\"\"\n",
        "\n",
        "    # Generate response\n",
        "    response = generator(prompt, max_new_tokens=20, num_return_sequences=1, do_sample=False, temperature=0.1)\n",
        "\n",
        "    # Extract just the sentiment classification\n",
        "    generated_text = response[0]['generated_text']\n",
        "    sentiment = generated_text.split(\"Sentiment:\")[-1].strip().split('\\n')[0].split('.')[0].strip()\n",
        "\n",
        "    return sentiment\n",
        "\n",
        "# Classify sentiment for all reviews\n",
        "print(\"=== TASK A: SENTIMENT CLASSIFICATION (FEW-SHOT) ===\\n\")\n",
        "\n",
        "for i, review in enumerate(reviews, 1):\n",
        "    sentiment = classify_sentiment(review)\n",
        "    print(f\"Review {i}: {sentiment}\")\n",
        "    print(f\"Text: \\\"{review}\\\"\\n\")\n",
        "    print(\"-\" * 80)"
      ]
    },
    {
      "cell_type": "markdown",
      "metadata": {
        "id": "f8yV-jmZkCYF"
      },
      "source": [
        "### **Task B: Structured Data Extraction (Instruction & Format Prompting)**\n",
        "\n",
        "Extracting structured information and formatting as JSON output."
      ]
    },
    {
      "cell_type": "code",
      "execution_count": 20,
      "metadata": {
        "colab": {
          "base_uri": "https://localhost:8080/"
        },
        "id": "7fVOVOkWkCYF",
        "outputId": "58f0f0df-c208-4c9e-c66f-be82459e5bb5"
      },
      "outputs": [
        {
          "output_type": "stream",
          "name": "stdout",
          "text": [
            "=== TASK B: STRUCTURED DATA EXTRACTION ===\n",
            "\n",
            "[{'generated_text': ' \"product_name\": \"QuantumX Pro\", \"issue_summary\": \"N/A\", \"sentiment\": \"Positive\"'}]\n",
            "Generated: {\"product_name\": \"QuantumX Pro\", \"issue_summary\": \"N/A\", \"sentiment\": \"Positive\"}\n",
            "Review 1:\n",
            "Input: \"I absolutely love the new QuantumX Pro camera! The picture quality is stellar and the battery life is amazing. Shipped super fast too. A++!\"\n",
            "Extracted JSON:\n",
            "{\n",
            "  \"product_name\": \"QuantumX Pro\",\n",
            "  \"issue_summary\": \"N/A\",\n",
            "  \"sentiment\": \"Positive\"\n",
            "}\n",
            "\n",
            "--------------------------------------------------------------------------------\n",
            "\n",
            "[{'generated_text': ' \"product_name\": \"SonicWave earbuds\", \"issue_summary\": \"Serious design flaw\", \"sentiment\": \"Very disappointed\"'}]\n",
            "Generated: {\"product_name\": \"SonicWave earbuds\", \"issue_summary\": \"Serious design flaw\", \"sentiment\": \"Very disappointed\"}\n",
            "Review 2:\n",
            "Input: \"The SonicWave earbuds have a serious design flaw. The left earbud stopped charging after just one week. I expected better for the price. Very disappointed.\"\n",
            "Extracted JSON:\n",
            "{\n",
            "  \"product_name\": \"SonicWave earbuds\",\n",
            "  \"issue_summary\": \"Serious design flaw\",\n",
            "  \"sentiment\": \"Very disappointed\"\n",
            "}\n",
            "\n",
            "--------------------------------------------------------------------------------\n",
            "\n",
            "[{'generated_text': ' \"product_name\": \"Titan smartwatch\" , \"issue_summary\": \"N/A\" , \"sentiment\": \"Negative\"'}]\n",
            "Generated: {\"product_name\": \"Titan smartwatch\" , \"issue_summary\": \"N/A\" , \"sentiment\": \"Negative\"}\n",
            "Review 3:\n",
            "Input: \"The Titan smartwatch is decent. The screen is bright and the features are good, but the step counter seems inaccurate. It's off by at least 20%. Is there a way to calibrate it?\"\n",
            "Extracted JSON:\n",
            "{\n",
            "  \"product_name\": \"Titan smartwatch\",\n",
            "  \"issue_summary\": \"N/A\",\n",
            "  \"sentiment\": \"Negative\"\n",
            "}\n",
            "\n",
            "--------------------------------------------------------------------------------\n",
            "\n",
            "[{'generated_text': ' \"product_name\": \"AeroDrone\", \"issue_summary\": \"\",\"issue_summary\": \"\",\"sentiment\": \"Negative\",\"sentiment\": \"Mixed\"'}]\n",
            "Generated: {\"product_name\": \"AeroDrone\", \"issue_summary\": \"\",\"issue_summary\": \"\",\"sentiment\": \"Negative\",\"sentiment\": \"Mixed\"}\n",
            "Review 4:\n",
            "Input: \"My order for the AeroDrone was a disaster. It arrived with a broken propeller and the battery was completely dead on arrival. Customer service has been unresponsive for 3 days.\"\n",
            "Extracted JSON:\n",
            "{\n",
            "  \"product_name\": \"AeroDrone\",\n",
            "  \"issue_summary\": \"\",\n",
            "  \"sentiment\": \"Mixed\"\n",
            "}\n",
            "\n",
            "--------------------------------------------------------------------------------\n",
            "\n",
            "[{'generated_text': ' \"product_name\": \"PureGlow Air Purifier\" , \"issue_summary\": \"Positive\", \"sentiment\": \"Mixed\"'}]\n",
            "Generated: {\"product_name\": \"PureGlow Air Purifier\" , \"issue_summary\": \"Positive\", \"sentiment\": \"Mixed\"}\n",
            "Review 5:\n",
            "Input: \"Overall, I'm happy with the PureGlow Air Purifier. It's quiet and effective. My only complaint is that the replacement filters are a bit expensive.\"\n",
            "Extracted JSON:\n",
            "{\n",
            "  \"product_name\": \"PureGlow Air Purifier\",\n",
            "  \"issue_summary\": \"Positive\",\n",
            "  \"sentiment\": \"Mixed\"\n",
            "}\n",
            "\n",
            "--------------------------------------------------------------------------------\n",
            "\n"
          ]
        }
      ],
      "source": [
        "# Task B: Structured Data Extraction (Pure Prompt Engineering)\n",
        "def extract_structured_data(review):\n",
        "    prompt = f\"\"\"\n",
        "You are a strict information extraction model.\n",
        "\n",
        "Your task: read the customer review below and extract three key fields:\n",
        "1. \"product_name\" — the name of the product mentioned in the review.\n",
        "2. \"issue_summary\" — a short summary of any issues, complaints, or flaws. If no issue is mentioned, use \"N/A\".\n",
        "3. \"sentiment\" — classify as exactly one of: \"Positive\", \"Negative\", or \"Mixed\".\n",
        "\n",
        "Output rules:\n",
        "- Output must be ONLY a valid JSON object.\n",
        "- It must be enclosed in braces({{}})\n",
        "- Do NOT include any explanation, extra text, or formatting outside JSON.\n",
        "- Field names and structure must match exactly this schema:\n",
        "  {{\n",
        "    \"product_name\": \"...\",\n",
        "    \"issue_summary\": \"...\",\n",
        "    \"sentiment\": \"...\"\n",
        "  }}\n",
        "- If a piece of information is missing, fill it with \"N/A\".\n",
        "\n",
        "Example 1:\n",
        "Review: \"I love the SuperPhone! Great camera quality but battery drains fast.\"\n",
        "Output:\n",
        "{{\n",
        "  \"product_name\": \"SuperPhone\",\n",
        "  \"issue_summary\": \"battery drains fast\",\n",
        "  \"sentiment\": \"Positive\"\n",
        "}}\n",
        "\n",
        "Example 2:\n",
        "Review: \"The GadgetX is terrible. Poor build quality and overpriced.\"\n",
        "Output:\n",
        "{{\n",
        "  \"product_name\": \"GadgetX\",\n",
        "  \"issue_summary\": \"poor build quality, overpriced\",\n",
        "  \"sentiment\": \"Negative\"\n",
        "}}\n",
        "\n",
        "Now extract the information for this review:\n",
        "Review: \"{review}\"\n",
        "Output:\n",
        "\"\"\"\n",
        "\n",
        "\n",
        "    try:\n",
        "        # Generate response from the model\n",
        "        response = generator(\n",
        "            prompt,\n",
        "            max_new_tokens=80,\n",
        "            num_return_sequences=1,\n",
        "            do_sample=False,\n",
        "            temperature=0.1,\n",
        "            pad_token_id=50256\n",
        "        )\n",
        "        print(response)\n",
        "        # Extract the generated text\n",
        "        generated_text = '{'+response[0]['generated_text'].strip()+'}'\n",
        "        print(f\"Generated: {generated_text}\")  # Show last 100 chars for debug\n",
        "\n",
        "        # Find the last JSON-like pattern\n",
        "        json_start = generated_text.rfind('{\"product_name\":')\n",
        "        if json_start != -1:\n",
        "            # Get everything from the JSON start\n",
        "            json_part = generated_text[json_start:]\n",
        "\n",
        "            # Find the closing brace\n",
        "            json_end = json_part.find('}')\n",
        "            if json_end != -1:\n",
        "                json_candidate = json_part[:json_end + 1]\n",
        "\n",
        "                # Try to parse the JSON\n",
        "                parsed = json.loads(json_candidate)\n",
        "                return json.dumps(parsed, indent=2)\n",
        "\n",
        "    except Exception as e:\n",
        "        print(f\"Error occurred: {e}\")\n",
        "\n",
        "    # Return N/A structure if anything fails\n",
        "    return json.dumps({\n",
        "        \"product_name\": \"N/A\",\n",
        "        \"issue_summary\": \"N/A\",\n",
        "        \"sentiment\": \"N/A\"\n",
        "    }, indent=2)\n",
        "\n",
        "# Extract structured data for all reviews\n",
        "print(\"=== TASK B: STRUCTURED DATA EXTRACTION ===\\n\")\n",
        "\n",
        "for i, review in enumerate(reviews, 1):\n",
        "    structured_data = extract_structured_data(review)\n",
        "    print(f\"Review {i}:\")\n",
        "    print(f\"Input: \\\"{review}\\\"\")\n",
        "    print(f\"Extracted JSON:\")\n",
        "    print(structured_data)\n",
        "    print(\"\\n\" + \"-\" * 80 + \"\\n\")"
      ]
    },
    {
      "cell_type": "markdown",
      "metadata": {
        "id": "-qyDyhjrkCYG"
      },
      "source": [
        "### **Task C: Root Cause Analysis (Chain-of-Thought Prompting)**\n",
        "\n",
        "Using chain-of-thought prompting to analyze negative and mixed reviews step by step."
      ]
    },
    {
      "cell_type": "code",
      "execution_count": 21,
      "metadata": {
        "colab": {
          "base_uri": "https://localhost:8080/"
        },
        "id": "pvDXvYn8kCYG",
        "outputId": "424f1979-01d6-4b51-8a11-b57dd5c708bd"
      },
      "outputs": [
        {
          "output_type": "stream",
          "name": "stdout",
          "text": [
            "=== TASK C: ROOT CAUSE ANALYSIS (CHAIN-OF-THOUGHT) ===\n",
            "\n",
            "Analyzing negative and mixed reviews only (Reviews 2, 3, 4, 5):\n",
            "\n",
            "Review 2 Analysis:\n",
            "Input: \"The SonicWave earbuds have a serious design flaw. The left earbud stopped charging after just one week. I expected better for the price. Very disappointed.\"\n",
            "\n",
            "Chain-of-Thought Analysis:\n",
            "Design Flaw\n",
            "\n",
            "================================================================================\n",
            "\n",
            "Review 3 Analysis:\n",
            "Input: \"The Titan smartwatch is decent. The screen is bright and the features are good, but the step counter seems inaccurate. It's off by at least 20%. Is there a way to calibrate it?\"\n",
            "\n",
            "Chain-of-Thought Analysis:\n",
            "Product Quality\n",
            "\n",
            "================================================================================\n",
            "\n",
            "Review 4 Analysis:\n",
            "Input: \"My order for the AeroDrone was a disaster. It arrived with a broken propeller and the battery was completely dead on arrival. Customer service has been unresponsive for 3 days.\"\n",
            "\n",
            "Chain-of-Thought Analysis:\n",
            "Product Quality\n",
            "\n",
            "================================================================================\n",
            "\n",
            "Review 5 Analysis:\n",
            "Input: \"Overall, I'm happy with the PureGlow Air Purifier. It's quiet and effective. My only complaint is that the replacement filters are a bit expensive.\"\n",
            "\n",
            "Chain-of-Thought Analysis:\n",
            "Product Quality\n",
            "\n",
            "================================================================================\n",
            "\n"
          ]
        }
      ],
      "source": [
        "# Task C: Root Cause Analysis using Chain-of-Thought Prompting\n",
        "def analyze_root_cause(review):\n",
        "    prompt = f\"\"\"\n",
        "You are an expert at analyzing customer reviews. Follow these instructions exactly.\n",
        "\n",
        "1. Read the review carefully.\n",
        "2. Identify the main problem in one sentence.\n",
        "3. Explain why this problem occurred in one sentence.\n",
        "4. Categorize the root cause into one of:\n",
        "Product Quality / Shipping/Logistics / Customer Service / Design Flaw / Other\n",
        "\n",
        "Review: \"{review}\"\n",
        "\n",
        "Now provide your analysis following the format exactly:\n",
        "\"\"\"\n",
        "\n",
        "    # Generate response with more tokens for detailed analysis\n",
        "    # response = generator(prompt, max_new_tokens=100, num_return_sequences=1, do_sample=False, temperature=0.1)\n",
        "    response = generator(\n",
        "        prompt,\n",
        "        max_new_tokens=180,\n",
        "        do_sample=False,\n",
        "        temperature=0.1\n",
        "    )\n",
        "\n",
        "    # Extract the analysis\n",
        "    # print(response)\n",
        "    analysis = response[0]['generated_text']\n",
        "    # analysis = generated_text.split(\"Analysis:\")[-1].strip()\n",
        "\n",
        "    return analysis\n",
        "\n",
        "# Identify negative and mixed reviews (reviews 2, 3, 4, 5 based on assignment)\n",
        "negative_mixed_indices = [1, 2, 3, 4]  # 0-indexed (reviews 2, 3, 4, 5)\n",
        "\n",
        "print(\"=== TASK C: ROOT CAUSE ANALYSIS (CHAIN-OF-THOUGHT) ===\\n\")\n",
        "print(\"Analyzing negative and mixed reviews only (Reviews 2, 3, 4, 5):\\n\")\n",
        "\n",
        "for idx in negative_mixed_indices:\n",
        "    review_num = idx + 1\n",
        "    review = reviews[idx]\n",
        "\n",
        "    print(f\"Review {review_num} Analysis:\")\n",
        "    print(f\"Input: \\\"{review}\\\"\")\n",
        "    print(\"\\nChain-of-Thought Analysis:\")\n",
        "\n",
        "    analysis = analyze_root_cause(review)\n",
        "    print(analysis)\n",
        "    print(\"\\n\" + \"=\" * 80 + \"\\n\")"
      ]
    }
  ],
  "metadata": {
    "colab": {
      "provenance": []
    },
    "kernelspec": {
      "display_name": "Python 3",
      "name": "python3"
    },
    "language_info": {
      "name": "python"
    }
  },
  "nbformat": 4,
  "nbformat_minor": 0
}